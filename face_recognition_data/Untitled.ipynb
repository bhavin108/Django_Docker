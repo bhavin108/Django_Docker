{
 "cells": [
  {
   "cell_type": "code",
   "execution_count": 8,
   "id": "1a15afa6",
   "metadata": {},
   "outputs": [],
   "source": [
    "import numpy as np\n",
    "data = np.load('classes.npy')"
   ]
  },
  {
   "cell_type": "code",
   "execution_count": 9,
   "id": "c734cc43",
   "metadata": {},
   "outputs": [
    {
     "data": {
      "text/plain": [
       "array(['90_Manish_Bhagchandani', 'amish'], dtype='<U22')"
      ]
     },
     "execution_count": 9,
     "metadata": {},
     "output_type": "execute_result"
    }
   ],
   "source": [
    "data"
   ]
  },
  {
   "cell_type": "code",
   "execution_count": 3,
   "id": "ac6154c1",
   "metadata": {},
   "outputs": [],
   "source": [
    "new_arr = data[:-3]"
   ]
  },
  {
   "cell_type": "code",
   "execution_count": 4,
   "id": "c2eb7ea5",
   "metadata": {},
   "outputs": [
    {
     "data": {
      "text/plain": [
       "array(['90_Manish_Bhagchandani'], dtype='<U22')"
      ]
     },
     "execution_count": 4,
     "metadata": {},
     "output_type": "execute_result"
    }
   ],
   "source": [
    "new_arr"
   ]
  },
  {
   "cell_type": "code",
   "execution_count": 5,
   "id": "7fc3bed3",
   "metadata": {},
   "outputs": [],
   "source": [
    "np.save('classes.npy',new_arr)"
   ]
  },
  {
   "cell_type": "code",
   "execution_count": null,
   "id": "b0583833",
   "metadata": {},
   "outputs": [],
   "source": []
  }
 ],
 "metadata": {
  "kernelspec": {
   "display_name": "Python 3 (ipykernel)",
   "language": "python",
   "name": "python3"
  },
  "language_info": {
   "codemirror_mode": {
    "name": "ipython",
    "version": 3
   },
   "file_extension": ".py",
   "mimetype": "text/x-python",
   "name": "python",
   "nbconvert_exporter": "python",
   "pygments_lexer": "ipython3",
   "version": "3.10.14"
  }
 },
 "nbformat": 4,
 "nbformat_minor": 5
}
